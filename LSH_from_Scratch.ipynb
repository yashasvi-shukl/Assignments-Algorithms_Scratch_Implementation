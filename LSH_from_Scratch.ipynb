{
  "nbformat": 4,
  "nbformat_minor": 0,
  "metadata": {
    "colab": {
      "name": "LSH_from_Scratch.ipynb",
      "provenance": [],
      "collapsed_sections": []
    },
    "kernelspec": {
      "name": "python3",
      "display_name": "Python 3"
    },
    "language_info": {
      "name": "python"
    }
  },
  "cells": [
    {
      "cell_type": "markdown",
      "metadata": {
        "id": "mR49rnr6ibOX"
      },
      "source": [
        "## Reading the data from csv file"
      ]
    },
    {
      "cell_type": "code",
      "metadata": {
        "colab": {
          "base_uri": "https://localhost:8080/"
        },
        "id": "gXNLRg93cPJN",
        "outputId": "af6743f1-b17f-4089-83aa-5a2ecef2492a"
      },
      "source": [
        "# Code to mount google drive in case you are loading the data from your google drive\n",
        "from google.colab import drive\n",
        "drive.mount('/gdrive')\n",
        "%cd /gdrive"
      ],
      "execution_count": 1,
      "outputs": [
        {
          "output_type": "stream",
          "name": "stdout",
          "text": [
            "Mounted at /gdrive\n",
            "/gdrive\n"
          ]
        }
      ]
    },
    {
      "cell_type": "code",
      "metadata": {
        "colab": {
          "base_uri": "https://localhost:8080/",
          "height": 415
        },
        "id": "oA1hSk2odHUy",
        "outputId": "d9288bce-1be8-4338-f0ff-1c9a264f5c4f"
      },
      "source": [
        "# Loading data from csv file\n",
        "import pandas as pd\n",
        "data_path = '/gdrive/MyDrive/Colab Notebooks/lsh_assignment_data.csv'\n",
        "\n",
        "df = pd.read_csv(data_path)\n",
        "df"
      ],
      "execution_count": 2,
      "outputs": [
        {
          "output_type": "execute_result",
          "data": {
            "text/html": [
              "<div>\n",
              "<style scoped>\n",
              "    .dataframe tbody tr th:only-of-type {\n",
              "        vertical-align: middle;\n",
              "    }\n",
              "\n",
              "    .dataframe tbody tr th {\n",
              "        vertical-align: top;\n",
              "    }\n",
              "\n",
              "    .dataframe thead th {\n",
              "        text-align: right;\n",
              "    }\n",
              "</style>\n",
              "<table border=\"1\" class=\"dataframe\">\n",
              "  <thead>\n",
              "    <tr style=\"text-align: right;\">\n",
              "      <th></th>\n",
              "      <th>category</th>\n",
              "      <th>text</th>\n",
              "    </tr>\n",
              "  </thead>\n",
              "  <tbody>\n",
              "    <tr>\n",
              "      <th>0</th>\n",
              "      <td>tech</td>\n",
              "      <td>tv future in the hands of viewers with home th...</td>\n",
              "    </tr>\n",
              "    <tr>\n",
              "      <th>1</th>\n",
              "      <td>business</td>\n",
              "      <td>worldcom boss  left books alone  former worldc...</td>\n",
              "    </tr>\n",
              "    <tr>\n",
              "      <th>2</th>\n",
              "      <td>sport</td>\n",
              "      <td>tigers wary of farrell  gamble  leicester say ...</td>\n",
              "    </tr>\n",
              "    <tr>\n",
              "      <th>3</th>\n",
              "      <td>sport</td>\n",
              "      <td>yeading face newcastle in fa cup premiership s...</td>\n",
              "    </tr>\n",
              "    <tr>\n",
              "      <th>4</th>\n",
              "      <td>entertainment</td>\n",
              "      <td>ocean s twelve raids box office ocean s twelve...</td>\n",
              "    </tr>\n",
              "    <tr>\n",
              "      <th>...</th>\n",
              "      <td>...</td>\n",
              "      <td>...</td>\n",
              "    </tr>\n",
              "    <tr>\n",
              "      <th>2220</th>\n",
              "      <td>NaN</td>\n",
              "      <td>cars pull down us retail figures us retail sal...</td>\n",
              "    </tr>\n",
              "    <tr>\n",
              "      <th>2221</th>\n",
              "      <td>NaN</td>\n",
              "      <td>kilroy unveils immigration policy ex-chatshow ...</td>\n",
              "    </tr>\n",
              "    <tr>\n",
              "      <th>2222</th>\n",
              "      <td>NaN</td>\n",
              "      <td>rem announce new glasgow concert us band rem h...</td>\n",
              "    </tr>\n",
              "    <tr>\n",
              "      <th>2223</th>\n",
              "      <td>NaN</td>\n",
              "      <td>how political squabbles snowball it s become c...</td>\n",
              "    </tr>\n",
              "    <tr>\n",
              "      <th>2224</th>\n",
              "      <td>NaN</td>\n",
              "      <td>souness delight at euro progress boss graeme s...</td>\n",
              "    </tr>\n",
              "  </tbody>\n",
              "</table>\n",
              "<p>2225 rows × 2 columns</p>\n",
              "</div>"
            ],
            "text/plain": [
              "           category                                               text\n",
              "0              tech  tv future in the hands of viewers with home th...\n",
              "1          business  worldcom boss  left books alone  former worldc...\n",
              "2             sport  tigers wary of farrell  gamble  leicester say ...\n",
              "3             sport  yeading face newcastle in fa cup premiership s...\n",
              "4     entertainment  ocean s twelve raids box office ocean s twelve...\n",
              "...             ...                                                ...\n",
              "2220            NaN  cars pull down us retail figures us retail sal...\n",
              "2221            NaN  kilroy unveils immigration policy ex-chatshow ...\n",
              "2222            NaN  rem announce new glasgow concert us band rem h...\n",
              "2223            NaN  how political squabbles snowball it s become c...\n",
              "2224            NaN  souness delight at euro progress boss graeme s...\n",
              "\n",
              "[2225 rows x 2 columns]"
            ]
          },
          "metadata": {},
          "execution_count": 2
        }
      ]
    },
    {
      "cell_type": "code",
      "metadata": {
        "colab": {
          "base_uri": "https://localhost:8080/"
        },
        "id": "cKHb7v5edUiU",
        "outputId": "e9dde256-76da-462c-ce6b-2995b6c28853"
      },
      "source": [
        "# Data Overiview\n",
        "df['category'].value_counts()"
      ],
      "execution_count": 3,
      "outputs": [
        {
          "output_type": "execute_result",
          "data": {
            "text/plain": [
              "sport            509\n",
              "business         508\n",
              "politics         415\n",
              "tech             399\n",
              "entertainment    384\n",
              "Name: category, dtype: int64"
            ]
          },
          "metadata": {},
          "execution_count": 3
        }
      ]
    },
    {
      "cell_type": "markdown",
      "metadata": {
        "id": "Mcpy_Nrnig9V"
      },
      "source": [
        "### Creating Train and Test Datasets\n",
        "\n",
        "Note that the labels for test data will not be present in the dataset and hence they are mentioned as NaN."
      ]
    },
    {
      "cell_type": "code",
      "metadata": {
        "id": "ncAK-oHFeKbS"
      },
      "source": [
        "# The last 10 rows in the csv file are query points, so loading them into test data.\n",
        "# And loading the reamining points to train_data for which labels are given.\n",
        "\n",
        "train_data = df.iloc[:-10,:]\n",
        "test_data = df.iloc[-10:,:]"
      ],
      "execution_count": 4,
      "outputs": []
    },
    {
      "cell_type": "code",
      "metadata": {
        "colab": {
          "base_uri": "https://localhost:8080/",
          "height": 415
        },
        "id": "bs7uYx-1fh66",
        "outputId": "5681fd4d-694a-4e8e-e000-a937567ea6f2"
      },
      "source": [
        "# For train_data here the labels are in the column named \"category\".\n",
        "train_data"
      ],
      "execution_count": 5,
      "outputs": [
        {
          "output_type": "execute_result",
          "data": {
            "text/html": [
              "<div>\n",
              "<style scoped>\n",
              "    .dataframe tbody tr th:only-of-type {\n",
              "        vertical-align: middle;\n",
              "    }\n",
              "\n",
              "    .dataframe tbody tr th {\n",
              "        vertical-align: top;\n",
              "    }\n",
              "\n",
              "    .dataframe thead th {\n",
              "        text-align: right;\n",
              "    }\n",
              "</style>\n",
              "<table border=\"1\" class=\"dataframe\">\n",
              "  <thead>\n",
              "    <tr style=\"text-align: right;\">\n",
              "      <th></th>\n",
              "      <th>category</th>\n",
              "      <th>text</th>\n",
              "    </tr>\n",
              "  </thead>\n",
              "  <tbody>\n",
              "    <tr>\n",
              "      <th>0</th>\n",
              "      <td>tech</td>\n",
              "      <td>tv future in the hands of viewers with home th...</td>\n",
              "    </tr>\n",
              "    <tr>\n",
              "      <th>1</th>\n",
              "      <td>business</td>\n",
              "      <td>worldcom boss  left books alone  former worldc...</td>\n",
              "    </tr>\n",
              "    <tr>\n",
              "      <th>2</th>\n",
              "      <td>sport</td>\n",
              "      <td>tigers wary of farrell  gamble  leicester say ...</td>\n",
              "    </tr>\n",
              "    <tr>\n",
              "      <th>3</th>\n",
              "      <td>sport</td>\n",
              "      <td>yeading face newcastle in fa cup premiership s...</td>\n",
              "    </tr>\n",
              "    <tr>\n",
              "      <th>4</th>\n",
              "      <td>entertainment</td>\n",
              "      <td>ocean s twelve raids box office ocean s twelve...</td>\n",
              "    </tr>\n",
              "    <tr>\n",
              "      <th>...</th>\n",
              "      <td>...</td>\n",
              "      <td>...</td>\n",
              "    </tr>\n",
              "    <tr>\n",
              "      <th>2210</th>\n",
              "      <td>politics</td>\n",
              "      <td>teens  know little  of politics teenagers ques...</td>\n",
              "    </tr>\n",
              "    <tr>\n",
              "      <th>2211</th>\n",
              "      <td>entertainment</td>\n",
              "      <td>lopez misses uk charity premiere jennifer lope...</td>\n",
              "    </tr>\n",
              "    <tr>\n",
              "      <th>2212</th>\n",
              "      <td>business</td>\n",
              "      <td>christmas shoppers flock to tills shops all ov...</td>\n",
              "    </tr>\n",
              "    <tr>\n",
              "      <th>2213</th>\n",
              "      <td>tech</td>\n",
              "      <td>progress on new internet domains by early 2005...</td>\n",
              "    </tr>\n",
              "    <tr>\n",
              "      <th>2214</th>\n",
              "      <td>business</td>\n",
              "      <td>bush budget seeks deep cutbacks president bush...</td>\n",
              "    </tr>\n",
              "  </tbody>\n",
              "</table>\n",
              "<p>2215 rows × 2 columns</p>\n",
              "</div>"
            ],
            "text/plain": [
              "           category                                               text\n",
              "0              tech  tv future in the hands of viewers with home th...\n",
              "1          business  worldcom boss  left books alone  former worldc...\n",
              "2             sport  tigers wary of farrell  gamble  leicester say ...\n",
              "3             sport  yeading face newcastle in fa cup premiership s...\n",
              "4     entertainment  ocean s twelve raids box office ocean s twelve...\n",
              "...             ...                                                ...\n",
              "2210       politics  teens  know little  of politics teenagers ques...\n",
              "2211  entertainment  lopez misses uk charity premiere jennifer lope...\n",
              "2212       business  christmas shoppers flock to tills shops all ov...\n",
              "2213           tech  progress on new internet domains by early 2005...\n",
              "2214       business  bush budget seeks deep cutbacks president bush...\n",
              "\n",
              "[2215 rows x 2 columns]"
            ]
          },
          "metadata": {},
          "execution_count": 5
        }
      ]
    },
    {
      "cell_type": "code",
      "metadata": {
        "colab": {
          "base_uri": "https://localhost:8080/",
          "height": 356
        },
        "id": "fc-SORtAfgqI",
        "outputId": "13b071dd-4516-43b4-8bea-a84d7d6e149e"
      },
      "source": [
        "test_data"
      ],
      "execution_count": 6,
      "outputs": [
        {
          "output_type": "execute_result",
          "data": {
            "text/html": [
              "<div>\n",
              "<style scoped>\n",
              "    .dataframe tbody tr th:only-of-type {\n",
              "        vertical-align: middle;\n",
              "    }\n",
              "\n",
              "    .dataframe tbody tr th {\n",
              "        vertical-align: top;\n",
              "    }\n",
              "\n",
              "    .dataframe thead th {\n",
              "        text-align: right;\n",
              "    }\n",
              "</style>\n",
              "<table border=\"1\" class=\"dataframe\">\n",
              "  <thead>\n",
              "    <tr style=\"text-align: right;\">\n",
              "      <th></th>\n",
              "      <th>category</th>\n",
              "      <th>text</th>\n",
              "    </tr>\n",
              "  </thead>\n",
              "  <tbody>\n",
              "    <tr>\n",
              "      <th>2215</th>\n",
              "      <td>NaN</td>\n",
              "      <td>junk e-mails on relentless rise spam traffic i...</td>\n",
              "    </tr>\n",
              "    <tr>\n",
              "      <th>2216</th>\n",
              "      <td>NaN</td>\n",
              "      <td>top stars join us tsunami tv show brad pitt  r...</td>\n",
              "    </tr>\n",
              "    <tr>\n",
              "      <th>2217</th>\n",
              "      <td>NaN</td>\n",
              "      <td>rings of steel combat net attacks gambling is ...</td>\n",
              "    </tr>\n",
              "    <tr>\n",
              "      <th>2218</th>\n",
              "      <td>NaN</td>\n",
              "      <td>davies favours gloucester future wales hooker ...</td>\n",
              "    </tr>\n",
              "    <tr>\n",
              "      <th>2219</th>\n",
              "      <td>NaN</td>\n",
              "      <td>beijingers fume over parking fees choking traf...</td>\n",
              "    </tr>\n",
              "    <tr>\n",
              "      <th>2220</th>\n",
              "      <td>NaN</td>\n",
              "      <td>cars pull down us retail figures us retail sal...</td>\n",
              "    </tr>\n",
              "    <tr>\n",
              "      <th>2221</th>\n",
              "      <td>NaN</td>\n",
              "      <td>kilroy unveils immigration policy ex-chatshow ...</td>\n",
              "    </tr>\n",
              "    <tr>\n",
              "      <th>2222</th>\n",
              "      <td>NaN</td>\n",
              "      <td>rem announce new glasgow concert us band rem h...</td>\n",
              "    </tr>\n",
              "    <tr>\n",
              "      <th>2223</th>\n",
              "      <td>NaN</td>\n",
              "      <td>how political squabbles snowball it s become c...</td>\n",
              "    </tr>\n",
              "    <tr>\n",
              "      <th>2224</th>\n",
              "      <td>NaN</td>\n",
              "      <td>souness delight at euro progress boss graeme s...</td>\n",
              "    </tr>\n",
              "  </tbody>\n",
              "</table>\n",
              "</div>"
            ],
            "text/plain": [
              "     category                                               text\n",
              "2215      NaN  junk e-mails on relentless rise spam traffic i...\n",
              "2216      NaN  top stars join us tsunami tv show brad pitt  r...\n",
              "2217      NaN  rings of steel combat net attacks gambling is ...\n",
              "2218      NaN  davies favours gloucester future wales hooker ...\n",
              "2219      NaN  beijingers fume over parking fees choking traf...\n",
              "2220      NaN  cars pull down us retail figures us retail sal...\n",
              "2221      NaN  kilroy unveils immigration policy ex-chatshow ...\n",
              "2222      NaN  rem announce new glasgow concert us band rem h...\n",
              "2223      NaN  how political squabbles snowball it s become c...\n",
              "2224      NaN  souness delight at euro progress boss graeme s..."
            ]
          },
          "metadata": {},
          "execution_count": 6
        }
      ]
    },
    {
      "cell_type": "markdown",
      "metadata": {
        "id": "U1jeyM0emKOw"
      },
      "source": [
        "## Custom Implementation"
      ]
    },
    {
      "cell_type": "markdown",
      "metadata": {
        "id": "AU6mt5wq3Oyg"
      },
      "source": [
        "### Instructions:\n",
        "\n",
        "  1. Read in the train_data.\n",
        "  2. Vectorize train_data using sklearns built in tfidf vectorizer.\n",
        "  3. Ignore unigrams and make use of both **bigrams & trigrams** and also limit the **max features** to **4000** and **minimum document frequency** to **10**.\n",
        "  4. After the tfidf vectors are generated as mentioned above, next task is to generate random hyperplanes.\n",
        "  5. Generate **random hyperplanes**. And generate the hyperplanes using a random normal distribution with **mean zero and variance 1**. 5 hyperplane in this case.\n",
        "  6. We have set the **numpy random seed to zero**. And then you can make use of **np.random.normal** to generate the vectors for hyperplanes.\n",
        "  7. Compute the hash function and also the corresponding hash table for it.\n",
        "  8. Once the hash table is generated now take in each of the query points from the test data.\n",
        "  9. Vectorize those query points using the same tfidf vectorizer as mentioned above.\n",
        "  10. Now use the hash function on this query point and fetch all the similar data points from the hashtable.\n",
        "  11. Use cosine similarity to compute **11-Nearest Neighbours** from the list of data points obtained in the above step.\n",
        "  12. Take a majority vote among the 11-Nearest Neighbours and predict the class label for the query point in the test data.\n",
        "  13. **In case of a tie** in the obtained labels from nearest neighbours, you can pick a label after sorting all the labels **alphabetically**(A-Z), i.e. for example labels starting with A would get more preference than labels starting with Z.\n",
        "  14. Repeat steps 9 to 13 for all the points in the test data and then finally return a list with all the predicted labels.\n",
        "  15. Note that there are a total of 10 data points in the test data so the final list you return should be of length 10.\n",
        "  16. Also note that the cosine similarity function should be written from scratch, you should not directly make use of existing libraries.\n"
      ]
    },
    {
      "cell_type": "code",
      "metadata": {
        "colab": {
          "base_uri": "https://localhost:8080/"
        },
        "id": "zpybh3BZxnaf",
        "outputId": "93ed9e59-8ee9-4047-dde9-c491e04dcb96"
      },
      "source": [
        "# Vectorizing train_data using sklearns built in tfidf vectorizer.\n",
        "\n",
        "from sklearn.feature_extraction.text import TfidfTransformer\n",
        "from sklearn.feature_extraction.text import TfidfVectorizer\n",
        "\n",
        "tf = TfidfVectorizer(ngram_range = (2,3), max_features = 4000, min_df = 10)\n",
        "train_tfidf = tf.fit_transform(train_data['text'])    # vectorizing train data\n",
        "print(\"Type : \", type(train_tfidf))\n",
        "print(\"Shape : \", train_tfidf.get_shape())\n",
        "print(pd.DataFrame(train_tfidf.toarray(),columns = tf.get_feature_names()))\n",
        "\n",
        "test_tfidf = tf.transform(test_data['text'])      # vectorizing train data\n"
      ],
      "execution_count": 7,
      "outputs": [
        {
          "output_type": "stream",
          "name": "stdout",
          "text": [
            "Type :  <class 'scipy.sparse.csr.csr_matrix'>\n",
            "Shape :  (2215, 4000)\n",
            "      000 and  000 in  000 jobs  ...  you want  you will  young people\n",
            "0         0.0     0.0       0.0  ...       0.0       0.0           0.0\n",
            "1         0.0     0.0       0.0  ...       0.0       0.0           0.0\n",
            "2         0.0     0.0       0.0  ...       0.0       0.0           0.0\n",
            "3         0.0     0.0       0.0  ...       0.0       0.0           0.0\n",
            "4         0.0     0.0       0.0  ...       0.0       0.0           0.0\n",
            "...       ...     ...       ...  ...       ...       ...           ...\n",
            "2210      0.0     0.0       0.0  ...       0.0       0.0           0.0\n",
            "2211      0.0     0.0       0.0  ...       0.0       0.0           0.0\n",
            "2212      0.0     0.0       0.0  ...       0.0       0.0           0.0\n",
            "2213      0.0     0.0       0.0  ...       0.0       0.0           0.0\n",
            "2214      0.0     0.0       0.0  ...       0.0       0.0           0.0\n",
            "\n",
            "[2215 rows x 4000 columns]\n"
          ]
        }
      ]
    },
    {
      "cell_type": "code",
      "metadata": {
        "id": "EXCSTOre07XL"
      },
      "source": [
        "import numpy as np\n",
        "\n",
        "def generate_hyperplane(train_tfidf):\n",
        "  #hyperplanes = []\n",
        "  np.random.seed(0)\n",
        "  dim = train_tfidf.shape[1]\n",
        "  # Generating 5*4000 dimention matrix where each row represent hyperplane having mean as zero and Standard deviation as 1\n",
        "  hyperplanes = np.random.normal(loc=0, scale=1 , size=(5,dim))     \n",
        "  #for i in range(5):\n",
        "    #hyperplanes.append(np.random.normal(loc=0, scale=1 , size=dim))\n",
        "  return hyperplanes"
      ],
      "execution_count": 8,
      "outputs": []
    },
    {
      "cell_type": "code",
      "metadata": {
        "id": "jR-Tf_yY6jZN"
      },
      "source": [
        "# Finding out on which side of hyperplane individual point lies and If it lies on positive side we'll store it as +1 and 0 otherwise. \n",
        "\n",
        "def generate_hashcode(train_tfidf, hyperplane):\n",
        "  # Multiplying hyperplane with tfidf vectorized value, point is >0 set it as +1 in bin and if value is negative set 0 in bin\n",
        "  tfidf_hp_prod = (train_tfidf.dot(hyperplane.T) > 0).astype(int) \n",
        "  hash_code = tuple(map(tuple, tfidf_hp_prod)) # Coverting above list into tuple as we will to use it as key\n",
        "  \n",
        "  return hash_code"
      ],
      "execution_count": 9,
      "outputs": []
    },
    {
      "cell_type": "code",
      "metadata": {
        "id": "0jPWhsude6wd"
      },
      "source": [
        "# In this block of code we are storing index number of all points having similar hash code as value.\n",
        "# This indicates all these points belongs to same division of hyperplan and they are neighbour.\n",
        "\n",
        "def generate_hashTable(hash_code, hash_table):\n",
        "\n",
        "  for key in hash_table.keys():\n",
        "    index = 0            \n",
        "    temp_list = []\n",
        "    for bit in hash_code:\n",
        "      if key == bit:\n",
        "        temp_list.append(index)\n",
        "      index += 1\n",
        "\n",
        "      #print(temp_list)\n",
        "\n",
        "    hash_table[key] = temp_list       # Sotiing list of points having same hash code as value of hash code\n",
        "\n",
        "  return hash_table\n",
        "#hash_table[(0,1,1,0,1)]"
      ],
      "execution_count": 10,
      "outputs": []
    },
    {
      "cell_type": "markdown",
      "metadata": {
        "id": "Mae8fQqxHIJo"
      },
      "source": [
        "![cosine-similarity.png](data:image/png;base64,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)\n",
        "\n"
      ]
    },
    {
      "cell_type": "markdown",
      "metadata": {
        "id": "m9S5rRueHdrF"
      },
      "source": [
        "\n",
        "Cosine Distance = 1- Cosine Similarity\n"
      ]
    },
    {
      "cell_type": "code",
      "metadata": {
        "id": "4TJHE-sAs_bm"
      },
      "source": [
        "def cosine_distance(x, y):\n",
        "  x = x[0]\n",
        "  y = y[0]\n",
        "  numerator = np.sum(x*y)\n",
        "  #print(\"Numerator : \",numerator)\n",
        "  sum_x = sum(x**2)**0.5              # ------------------------> ||A||\n",
        "  sum_y = sum(y**2)**0.5              # ------------------------> ||B||\n",
        "\n",
        "  cos_similarity = numerator/(sum_x * sum_y)\n",
        "  cosine_distance = 1 - cos_similarity\n",
        "  #print(cos_similarity)\n",
        "  return cosine_distance"
      ],
      "execution_count": 11,
      "outputs": []
    },
    {
      "cell_type": "markdown",
      "metadata": {
        "id": "p5Gg6ayVG4jI"
      },
      "source": [
        ""
      ]
    },
    {
      "cell_type": "code",
      "metadata": {
        "id": "gZHHF2FT4yMq"
      },
      "source": [
        "# In this block we are finding 11 neariest neighbour and deciding category of test point based on majority voting.\n",
        "\n",
        "\n",
        "def find_category(neighbour):\n",
        "  # Note: We are using cosine distance in case. So smaller the distance value nearer the point is. Therefore I am not sorting it in descending order. \n",
        "  # If you're using cosine similarity make sure you order it in descending order before choosing neariest neighbour. In sort_value we have to pass ascending = False to sort it in descending order.\n",
        "  neighbour = neighbour.sort_values(by=['Cos_Diff'])\n",
        "  #print(\"Neighbour : \",neighbour)\n",
        "  top_11 = neighbour[:11]\n",
        "  #print(\"Top 11 : \",top_11['idx'])\n",
        "  category_list = list(train_data['category'][top_11['idx']])\n",
        "  #print(cat)\n",
        "  category = max(category_list, key = category_list.count)          # Finding maximum occurance as category\n",
        "  \n",
        "  return category"
      ],
      "execution_count": 12,
      "outputs": []
    },
    {
      "cell_type": "code",
      "metadata": {
        "id": "YECivOCWfvGn"
      },
      "source": [
        "# Please implement this fucntion and write your code wherever asked. Do NOT change the code snippets provided by us.\n",
        "\n",
        "import numpy as np\n",
        "\n",
        "def predictLabels (test_data):\n",
        "  \"\"\"\n",
        "  Given the test_data, return the labels for all the rows in the test data.\n",
        "  Follow the step by step instructions mentioned above.\n",
        "  \"\"\"\n",
        "\n",
        "  np.random.seed(0)\n",
        "\n",
        "  ##############################################################\n",
        "  ####  Write YOUR CODE BELOW  as per the above instructions ###\n",
        "  ##############################################################\n",
        "\n",
        "  hyperplane = np.array(generate_hyperplane(train_tfidf))\n",
        "  hash_code = generate_hashcode(train_tfidf, hyperplane)\n",
        "  hash_table = dict.fromkeys(hash_code)         # using above generated hashcode tuple a key for dictonary \n",
        "  hash_table = generate_hashTable(hash_code, hash_table)\n",
        "  test_hash = generate_hashcode(test_tfidf, hyperplane)\n",
        " \n",
        "  category = []\n",
        "  count = 0\n",
        "\n",
        "  for t_hash in test_hash:\n",
        "    neighbour = pd.DataFrame()\n",
        "    temp_list = []\n",
        "    #temp_dict = dict()\n",
        "    group = hash_table[t_hash]                # Storing all data point (index) which has same hash code as of query/test data point\n",
        "    data = test_tfidf[count].toarray()        # Storing tfidf value of test data point sequentially. In other words test_hash contain corresponding hashcode of test_tfidf value\n",
        "    #print(data)\n",
        "\n",
        "    for idx in group:\n",
        "      # Finding tfidf value of all index value corresponding to test hashcode\n",
        "      y = train_tfidf[idx].toarray()          \n",
        "      cosine_dif = cosine_distance(data, y)  # Finding distance between test tdidf and tfidf of all train data points corresponding to hashcode\n",
        "      temp_list.append(cosine_dif)\n",
        "\n",
        "    neighbour['idx'] = group\n",
        "    neighbour['Cos_Diff'] = temp_list\n",
        "    #print(\"Neighour : \",neighbour)\n",
        "    category.append(find_category(neighbour))\n",
        "    count += 1              # Incrementing counter to find next test tfidf vector\n",
        "    #break\n",
        "  print(category)\n",
        "  return category"
      ],
      "execution_count": 13,
      "outputs": []
    },
    {
      "cell_type": "markdown",
      "metadata": {
        "id": "rhnngvQkrnBB"
      },
      "source": [
        "## Grader Cell\n",
        "\n",
        "Please execute the following Grader cell to verify the correctness of your above implementation. This cell will print \"Success\" if your implmentation of the predictLabels() is correct, else, it will print \"Failed\". Make sure you get a \"Success\" before you submit the code in the classroom."
      ]
    },
    {
      "cell_type": "code",
      "metadata": {
        "id": "GX1sji2XrtmX",
        "colab": {
          "base_uri": "https://localhost:8080/"
        },
        "outputId": "3dee5f22-8711-4b77-f29e-325e1dfe9a0a"
      },
      "source": [
        "###########################################\n",
        "## GRADER CELL: Do NOT Change this.\n",
        "# This cell will print \"Success\" if your implmentation of the predictLabels() is correct and the accuracy obtained is above 80%.\n",
        "# Else, it will print \"Failed\"\n",
        "###########################################\n",
        "import numpy as np\n",
        "\n",
        "# Predict the labels using the predictLabels() function\n",
        "Y_custom = np.array(predictLabels(test_data))\n",
        "\n",
        "# Reference grader array - DO NOT MODIFY IT\n",
        "Y_grader = np.array(['tech', 'entertainment', 'tech', 'sport', 'business', 'business', 'politics', 'entertainment', 'politics', 'sport'])\n",
        "\n",
        "# Calculating accuracy by comparing Y_grader and Y_custom\n",
        "accuracy = np.sum(Y_grader==Y_custom) * 10\n",
        "\n",
        "if accuracy >= 80:\n",
        "  print(\"******** Success ********\",\"Accuracy Achieved = \", accuracy,'%')\n",
        "else:\n",
        "  print(\"####### Failed #######\",\"Accuracy Achieved = \", accuracy,'%')\n",
        "  print(\"\\nY_grader = \\n\\n\", Y_grader)\n",
        "  print(\"\\n\",\"*\"*50)\n",
        "  print(\"\\nY_custom = \\n\\n\", Y_custom)\n"
      ],
      "execution_count": 14,
      "outputs": [
        {
          "output_type": "stream",
          "name": "stdout",
          "text": [
            "['tech', 'entertainment', 'tech', 'tech', 'business', 'business', 'politics', 'entertainment', 'politics', 'sport']\n",
            "******** Success ******** Accuracy Achieved =  90 %\n"
          ]
        }
      ]
    }
  ]
}